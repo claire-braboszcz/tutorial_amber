{
 "cells": [
  {
   "cell_type": "markdown",
   "metadata": {},
   "source": [
    "A summary of the EEG data I will collect is as follows:\n",
    "\n",
    "   - Awake, resting EEG (5 mins with eyes open, 5 mins with eyes shut, participant sat in chair)\n",
    "   - Sleep EEG\n",
    "   - Behavioural task EEG. The structure of the task is as follows:\n",
    "        10s ‘rest’ period, participant looks at central cross on screen- halfway through this rest period (e.g. at 5s) a 1s tone will play so that we can get an auditory ERP\n",
    "        3s ‘countdown’ to task, where participant is instructed that they will either imagine moving their finger or perform a finger movement\n",
    "    -    15s of task: either imagination or movement of finger\n",
    "     -   2s ‘trial finished’ screen\n",
    "\n",
    "Participants will complete 10 trials of imagined finger movements, 10 trials of performing finger movements. Order of trials will be random. In this task I may also enlist a sensor to detect the finger movements, but I am unsure what sensor to use so am still exploring my options."
   ]
  },
  {
   "cell_type": "code",
   "execution_count": 1,
   "metadata": {},
   "outputs": [],
   "source": [
    "import mne\n",
    "import os # python library to deal with filepaths etc.."
   ]
  },
  {
   "cell_type": "markdown",
   "metadata": {},
   "source": [
    "# Importing data "
   ]
  },
  {
   "cell_type": "code",
   "execution_count": 10,
   "metadata": {},
   "outputs": [
    {
     "name": "stdout",
     "output_type": "stream",
     "text": [
      "Extracting parameters from /home/claire/Documents/scripts-local/EEG_tutorial_amber/sample_data/s558_02.vhdr...\n",
      "Setting channel info structure...\n",
      "Reading 0 ... 1707139  =      0.000 ...  1707.139 secs...\n"
     ]
    }
   ],
   "source": [
    "filename = '/home/claire/Documents/scripts-local/EEG_tutorial_amber/sample_data/s558_02.vhdr'\n",
    "\n",
    "\n",
    "# load your raw data, check for the right function if they are not edf files\n",
    "raw = mne.io.read_raw_brainvision(filename, preload=True)\n",
    "\n",
    "# you may use one of the following depending on your needs:\n",
    "\n",
    "# to rename channels:\n",
    "#raw.rename_channels(mapping={'E1H1\\t//EXG1 HE ': 'EOG L', 'E2H2\\t//EXG2 HE ': 'EOG R', 'E3LE\\t//EXG3 LE ': 'EOG V L', 'E5M2\\t//EXG5 M2 ': 'M2', 'E4M1\\t//EXG4 M1 ': 'M1' })\n",
    "\n",
    "# to specifuy channel types, if you have other types than EEG:\n",
    "\n",
    "#raw.set_channel_types(mapping={'EOG L': 'eog', 'EOG R': 'eog', 'EOG V L': 'eog', 'M1':'misc', 'M2': 'misc'})\n"
   ]
  },
  {
   "cell_type": "markdown",
   "metadata": {},
   "source": [
    "## reading events"
   ]
  },
  {
   "cell_type": "code",
   "execution_count": 12,
   "metadata": {},
   "outputs": [
    {
     "name": "stdout",
     "output_type": "stream",
     "text": [
      "Used Annotations descriptions: ['New Segment/', 'Stimulus/S  8', 'Stimulus/S 11', 'Stimulus/S 13', 'Stimulus/S 21', 'Stimulus/S 22', 'Stimulus/S 25', 'Stimulus/S 44', 'Stimulus/S 50', 'Stimulus/S 55']\n"
     ]
    }
   ],
   "source": [
    "# with brainvision events (triggers) are saved in a specific marker file (.vmrk)\n",
    "events, _ = mne.events_from_annotations(raw)\n",
    "\n",
    "# if your recording system does not save events in a marker file, then they should be in a specific channel and this function should find it:\n",
    "# events = mne.find_events(raw,stim_channel= auto verbose=True) # could be stim_channel = -1\n",
    "\n",
    "# you can  save the events in a file. Convention in mne is that event file names to finish with -eve or saved as .eve.# \n",
    "mne.write_events(os.path.join('/home/claire/Documents/scripts-local/EEG_tutorial_amber/sample_data/', 's558_s02.eve'), events)\n",
    "\n"
   ]
  },
  {
   "cell_type": "markdown",
   "metadata": {},
   "source": [
    "## get electrode location"
   ]
  },
  {
   "cell_type": "code",
   "execution_count": null,
   "metadata": {},
   "outputs": [],
   "source": [
    "montage= mne.channels.read_montage('standard_1020', path = '~/mne-python/mne/channels/data/montages/')# change to where you've put you mne python folder\n",
    "raw.set_montage(montage)"
   ]
  },
  {
   "cell_type": "markdown",
   "metadata": {},
   "source": [
    "## set reference"
   ]
  },
  {
   "cell_type": "code",
   "execution_count": null,
   "metadata": {},
   "outputs": [],
   "source": [
    "raw.set_eeg_reference(ref_channels='average') # adjust to the kind of reference you want\n"
   ]
  },
  {
   "cell_type": "markdown",
   "metadata": {},
   "source": [
    "## filter your data"
   ]
  },
  {
   "cell_type": "code",
   "execution_count": null,
   "metadata": {},
   "outputs": [],
   "source": [
    "# here it is a fir filter, check on mne website for all options\n",
    "raw_fir = raw.filter(1.,40, fir_design='firwin')\n"
   ]
  },
  {
   "cell_type": "markdown",
   "metadata": {},
   "source": [
    "# preprocess continuuous data (for your resting EEG)\n",
    "To remove electrodes that are off or shows a lot of artefacts just click on the electrode trace and it will be greyed out. To remove portion of continuuous data that presents big artefacts you want to plot the data, then press 'a' to switch to annotation mode. You can then create a new 'bad_' annotation (specify the name you want) and you can select the portion of data to be marked as bad if you left click and drag. The help button provides also all the display option you have"
   ]
  },
  {
   "cell_type": "code",
   "execution_count": null,
   "metadata": {},
   "outputs": [],
   "source": [
    "raw.plot()\n"
   ]
  },
  {
   "cell_type": "markdown",
   "metadata": {},
   "source": [
    "access your annotation and check bad data"
   ]
  },
  {
   "cell_type": "code",
   "execution_count": null,
   "metadata": {},
   "outputs": [],
   "source": [
    "# channels labbeled for rejection \n",
    "raw.info['bads']\n",
    "\n",
    "# summary of annotations \n",
    "raw.annotations\n",
    "\n",
    "# access to the details for a specific annotation, gives you onset duration and description of the data\n",
    "raw.annotations[1]"
   ]
  },
  {
   "cell_type": "markdown",
   "metadata": {},
   "source": [
    "## use ICA \n",
    "check tutorial here: \n",
    "https://mne-tools.github.io/dev/auto_tutorials/preprocessing/plot_40_artifact_correction_ica.html?highlight=ica"
   ]
  },
  {
   "cell_type": "markdown",
   "metadata": {},
   "source": [
    "# preprocess event-related data (ie. for your behavioural task)"
   ]
  },
  {
   "cell_type": "markdown",
   "metadata": {},
   "source": [
    " Epoch the data"
   ]
  },
  {
   "cell_type": "code",
   "execution_count": null,
   "metadata": {},
   "outputs": [],
   "source": [
    "# you can define a dictionnary with more informative events id\n",
    "\n",
    "# only get go and nogo trials\n",
    "event_id = {'GO':11, 'NOGO':13}\n",
    "\n",
    "# define the time window before and after the events that you want\n",
    "tmin = -0.2\n",
    "tmax = 0.5\n",
    "\n",
    "#epoch the data for the go and nogo trials only\n",
    "epochs = mne.Epochs(raw, events, event_id, tmin, tmax,\n",
    "                    baseline=(None, 0), reject=None,\n",
    "                    verbose=False, detrend=0,  preload=True)\n",
    "\n"
   ]
  },
  {
   "cell_type": "code",
   "execution_count": null,
   "metadata": {},
   "outputs": [],
   "source": [
    "# to get a summary of what's in your data:\n",
    "epochs"
   ]
  },
  {
   "cell_type": "code",
   "execution_count": null,
   "metadata": {},
   "outputs": [],
   "source": [
    "# you can check the epochs, look up the help button for display options\n",
    "# you can directly mark bad epochs by clicking on them\n",
    "epochs.plot()"
   ]
  },
  {
   "cell_type": "markdown",
   "metadata": {},
   "source": [
    "optional auto reject function"
   ]
  },
  {
   "cell_type": "code",
   "execution_count": null,
   "metadata": {},
   "outputs": [],
   "source": [
    "from autoreject import get_rejection_threshold # need to get autoreject https://autoreject.github.io/\n",
    " \n",
    "reject = get_rejection_threshold(epochs)\n",
    "reject\n",
    "\n",
    "rej= {'eeg': reject['eeg']}\n"
   ]
  },
  {
   "cell_type": "code",
   "execution_count": null,
   "metadata": {},
   "outputs": [],
   "source": [
    "you can also use ICA on epoched data"
   ]
  },
  {
   "cell_type": "markdown",
   "metadata": {},
   "source": [
    " actually remove bad data:"
   ]
  },
  {
   "cell_type": "code",
   "execution_count": null,
   "metadata": {},
   "outputs": [],
   "source": [
    "epochs.drop_bad()"
   ]
  },
  {
   "cell_type": "code",
   "execution_count": null,
   "metadata": {},
   "outputs": [],
   "source": [
    "you can plot a log of what has been rejected"
   ]
  },
  {
   "cell_type": "code",
   "execution_count": null,
   "metadata": {},
   "outputs": [],
   "source": [
    "epochs.plot_drop_log()"
   ]
  },
  {
   "cell_type": "markdown",
   "metadata": {},
   "source": [
    "## interpolate bad channels\n",
    "you can interpolate bad channels on any eeg objecty (ie. raw, epoch, evoked etc.)"
   ]
  },
  {
   "cell_type": "code",
   "execution_count": null,
   "metadata": {},
   "outputs": [],
   "source": [
    "epochs.interpolate_bads() # remov channels marked previously as bad and interpolate them"
   ]
  },
  {
   "cell_type": "markdown",
   "metadata": {},
   "source": [
    "## resampling"
   ]
  },
  {
   "cell_type": "code",
   "execution_count": null,
   "metadata": {},
   "outputs": [],
   "source": [
    "epochs.decimate(decim =4) # decim from 1000 to 250 to save ram"
   ]
  },
  {
   "cell_type": "markdown",
   "metadata": {},
   "source": [
    "# Evoked data "
   ]
  },
  {
   "cell_type": "code",
   "execution_count": null,
   "metadata": {},
   "outputs": [],
   "source": [
    "compute average the epochs for each type of stimuli of interest:"
   ]
  },
  {
   "cell_type": "code",
   "execution_count": null,
   "metadata": {},
   "outputs": [],
   "source": [
    "# \n",
    "ep_go = epochs['GO'].average() \n",
    "ep_nogo = epochs['NOGO'].average()"
   ]
  },
  {
   "cell_type": "markdown",
   "metadata": {},
   "source": [
    "plot the ERP for the 2 conditions"
   ]
  },
  {
   "cell_type": "code",
   "execution_count": null,
   "metadata": {},
   "outputs": [],
   "source": [
    "mne.viz.plot_compare_evokeds([ep_go, ep_nogo], picks= 'eeg')\n",
    "\n",
    "# check ?mne.viz.plot_compare_evokeds for all the options"
   ]
  },
  {
   "cell_type": "markdown",
   "metadata": {},
   "source": [
    "plot the ERP difference between the 2 conditions"
   ]
  },
  {
   "cell_type": "code",
   "execution_count": null,
   "metadata": {},
   "outputs": [],
   "source": [
    "diff_evoked = mne.combine_evoked([ep_go, -ep_nogo ], weights= 'equal')\n",
    "mne.viz.plot_compare_evokeds(diff_evoked, picks= 'eeg')"
   ]
  }
 ],
 "metadata": {
  "kernelspec": {
   "display_name": "Python 3",
   "language": "python",
   "name": "python3"
  },
  "language_info": {
   "codemirror_mode": {
    "name": "ipython",
    "version": 3
   },
   "file_extension": ".py",
   "mimetype": "text/x-python",
   "name": "python",
   "nbconvert_exporter": "python",
   "pygments_lexer": "ipython3",
   "version": "3.7.3"
  }
 },
 "nbformat": 4,
 "nbformat_minor": 2
}
